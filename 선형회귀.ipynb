{
  "nbformat": 4,
  "nbformat_minor": 0,
  "metadata": {
    "colab": {
      "name": "cps 6번 쌍용장동차팀.ipynb",
      "provenance": [],
      "authorship_tag": "ABX9TyOCzGDm9yICnWeGo4WbktJr",
      "include_colab_link": true
    },
    "kernelspec": {
      "name": "python3",
      "display_name": "Python 3"
    },
    "language_info": {
      "name": "python"
    }
  },
  "cells": [
    {
      "cell_type": "markdown",
      "metadata": {
        "id": "view-in-github",
        "colab_type": "text"
      },
      "source": [
        "<a href=\"https://colab.research.google.com/github/Jun-yong-lee/pythonStudy/blob/main/%EC%84%A0%ED%98%95%ED%9A%8C%EA%B7%80.ipynb\" target=\"_parent\"><img src=\"https://colab.research.google.com/assets/colab-badge.svg\" alt=\"Open In Colab\"/></a>"
      ]
    },
    {
      "cell_type": "markdown",
      "metadata": {
        "id": "cHIIDAVJuE8C"
      },
      "source": [
        "# **선형 회귀**\n",
        "회귀 : 두 변수 사이의 상관관계를 분석하는 방법을 말함\n",
        "\n"
      ]
    },
    {
      "cell_type": "code",
      "metadata": {
        "id": "ie6G-5oMH0xT"
      },
      "source": [
        "import numpy as np\n",
        "explanatory_variable = np.array(\n",
        "    [5, -15, 7, -7, -11, 3, -9, 1, -1, 11, 9, -13, 13, -3, -5]\n",
        "    ) # 설명 변수 dataset\n",
        "\n",
        "target_variable = np.array(\n",
        "    [18, -82, 28, -42, -62, 8, -52, -2, -12, 48, 38, -72, 58, -22, -32]\n",
        "    ) # 목표 변수 dataset"
      ],
      "execution_count": null,
      "outputs": []
    },
    {
      "cell_type": "code",
      "metadata": {
        "id": "C41D_RZkIctg"
      },
      "source": [
        "from sklearn.model_selection import train_test_split\n",
        "\n",
        "## 훈련 세트와 테스트 세트로 나눕니다 ##\n",
        "train_input, test_input, train_target, test_target = train_test_split(\n",
        "    explanatory_variable, target_variable\n",
        "    )\n",
        "\n",
        "## 특성 테이터 2차원 배열 변환 ##\n",
        "train_input = train_input.reshape(-1, 1)\n",
        "test_input = test_input.reshape(-1, 1)"
      ],
      "execution_count": null,
      "outputs": []
    },
    {
      "cell_type": "markdown",
      "metadata": {
        "id": "stGtN-izHzfh"
      },
      "source": [
        "훈련에 사용할 데이터와 테스트에 사용할 데이터를 나눈다\n",
        "\n",
        "테스트 데이터를 모델 훈련에서 독립적으로 만들어 성능 검증 시 사용한다"
      ]
    },
    {
      "cell_type": "code",
      "metadata": {
        "colab": {
          "base_uri": "https://localhost:8080/"
        },
        "id": "JGJ_yp8LuEaX",
        "outputId": "a54042ad-619b-405a-9128-81d200a14305"
      },
      "source": [
        "train_input = train_input.reshape(-1, 1)\n",
        "test_input = test_input.reshape(-1, 1)\n",
        "print(train_input.shape) # 2차원 배열 변환\n",
        "print(test_input.shape) # 2차원 배열 변환"
      ],
      "execution_count": null,
      "outputs": [
        {
          "output_type": "stream",
          "text": [
            "(11, 1)\n",
            "(4, 1)\n"
          ],
          "name": "stdout"
        }
      ]
    },
    {
      "cell_type": "code",
      "metadata": {
        "colab": {
          "base_uri": "https://localhost:8080/"
        },
        "id": "0ap0yU3SJgCb",
        "outputId": "47606248-6515-49eb-db67-90eaad83e8fe"
      },
      "source": [
        "from sklearn.linear_model import LinearRegression\n",
        "lr = LinearRegression()\n",
        "\n",
        "# 선형 회귀 모델을 훈련합니다\n",
        "lr.fit(train_input, train_target)\n",
        "\n",
        "# 5 data에 대해 예측합니다\n",
        "print(lr.predict([[5]]))"
      ],
      "execution_count": null,
      "outputs": [
        {
          "output_type": "stream",
          "text": [
            "[18.]\n"
          ],
          "name": "stdout"
        }
      ]
    },
    {
      "cell_type": "code",
      "metadata": {
        "colab": {
          "base_uri": "https://localhost:8080/"
        },
        "id": "TrWejBFBJgGQ",
        "outputId": "69128826-1969-4ebf-d38c-428a6d8c04b1"
      },
      "source": [
        "print(lr.coef_, lr.intercept_)"
      ],
      "execution_count": null,
      "outputs": [
        {
          "output_type": "stream",
          "text": [
            "[5.] -7.0\n"
          ],
          "name": "stdout"
        }
      ]
    },
    {
      "cell_type": "markdown",
      "metadata": {
        "id": "e0YGmc8tGj_t"
      },
      "source": [
        "**목표 변수 = 5.0 x (설명변수) -7**\n",
        "\n",
        "coef_, intercept_ : 모델파라미터(model parameter)"
      ]
    },
    {
      "cell_type": "markdown",
      "metadata": {
        "id": "hbNfzJ-E7n-c"
      },
      "source": [
        "[ y = 5x - 7의 그래프 ]\n",
        "\n",
        "![그래프.png](data:image/png;base64,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)"
      ]
    },
    {
      "cell_type": "markdown",
      "metadata": {
        "id": "dI-aMZNl6kze"
      },
      "source": [
        "***학습시킨 모델의 성능 테스트***\n",
        "\n",
        "R^2 = 1 - (타깃 - 예측)^2 / (타깃 - 평균)^2\n",
        "\n",
        "사이킷런의 score() 메서드가 출력하는 값이 1.0에 가까울수록 모델에 의해 예측이 잘된 것이다\n",
        "\n",
        "따라서 설명변수 dataset과 목표변수 dataset으로 만든 모델이 잘 훈련됐다고 볼 수 있다\n",
        "\n"
      ]
    },
    {
      "cell_type": "code",
      "metadata": {
        "colab": {
          "base_uri": "https://localhost:8080/"
        },
        "id": "849YR9yGJKMZ",
        "outputId": "4eda884e-a2ca-4179-9b5a-26b5991e39bd"
      },
      "source": [
        "## 결정계수\n",
        "print(lr.score(train_input, train_target))\n",
        "print(lr.score(test_input, test_target))"
      ],
      "execution_count": null,
      "outputs": [
        {
          "output_type": "stream",
          "text": [
            "1.0\n",
            "1.0\n"
          ],
          "name": "stdout"
        }
      ]
    },
    {
      "cell_type": "code",
      "metadata": {
        "colab": {
          "base_uri": "https://localhost:8080/",
          "height": 296
        },
        "id": "_6XxdFGrsH5R",
        "outputId": "23991e93-a368-4141-e6f4-6d8c788442cb"
      },
      "source": [
        "import matplotlib.pyplot as plt\n",
        " \n",
        "plt.scatter(train_input, train_target)\n",
        "plt.plot([-15, 13], [-15*lr.coef_ + lr.intercept_, 13*lr.coef_ + lr.intercept_])\n",
        " \n",
        "plt.scatter(-11, -62, marker = '^')\n",
        "plt.scatter(-4, -27, marker = '^')\n",
        "plt.scatter(-9, -52, marker = '*')\n",
        "# 새로운 데이터 [[-11]], [[-4]], [[-9]] scatter를 이용해 표시\n",
        "plt.grid(True)\n",
        "plt.xlabel(\"explanatory_variable data\")\n",
        "plt.ylabel(\"target_variable data\")\n",
        "plt.title(\"Linear_Regression_model\")\n",
        "plt.show()"
      ],
      "execution_count": null,
      "outputs": [
        {
          "output_type": "display_data",
          "data": {
            "image/png": "[encoded data removed]",
            "text/plain": [
              "<Figure size 432x288 with 1 Axes>"
            ]
          },
          "metadata": {
            "tags": [],
            "needs_background": "light"
          }
        }
      ]
    },
    {
      "cell_type": "code",
      "metadata": {
        "colab": {
          "base_uri": "https://localhost:8080/"
        },
        "id": "zxhcc14Mtb41",
        "outputId": "b8faef77-8480-4fff-cd37-caaee346d6dd"
      },
      "source": [
        "print(lr.predict([[-11]]))\n",
        "print(lr.predict([[-4]]))\n",
        "print(lr.predict([[-9]]))"
      ],
      "execution_count": null,
      "outputs": [
        {
          "output_type": "stream",
          "text": [
            "[-62.]\n",
            "[-27.]\n",
            "[-52.]\n"
          ],
          "name": "stdout"
        }
      ]
    },
    {
      "cell_type": "code",
      "metadata": {
        "colab": {
          "base_uri": "https://localhost:8080/"
        },
        "id": "yoxX2GGjJloB",
        "outputId": "847d3401-ec81-4896-9af2-0726960dfbdc"
      },
      "source": [
        "new_data = [-11, -4, -9, 2, -10, -2, 0, -3, 1, -6, -7, -5, -8, -1]\n",
        "result_predict = []\n",
        "for i in new_data:\n",
        "  print(lr.predict([[i]]))\n",
        "  result_predict.append(lr.predict([[i]]))"
      ],
      "execution_count": null,
      "outputs": [
        {
          "output_type": "stream",
          "text": [
            "[-62.]\n",
            "[-27.]\n",
            "[-52.]\n",
            "[3.]\n",
            "[-57.]\n",
            "[-17.]\n",
            "[-7.]\n",
            "[-22.]\n",
            "[-2.]\n",
            "[-37.]\n",
            "[-42.]\n",
            "[-32.]\n",
            "[-47.]\n",
            "[-12.]\n"
          ],
          "name": "stdout"
        }
      ]
    },
    {
      "cell_type": "markdown",
      "metadata": {
        "id": "vMeuZz7RLl9y"
      },
      "source": [
        "새로운 데이터 : [-11, -4, -9, 2, -10, -2, 0, -3, 1, -6, -7, -5, -8, -1]\n",
        "\n",
        "목표값(예측값) : [-62, -27, -52, 3, -57, -17, -7, -22, -2, -37, -42, -32, -47, -12]"
      ]
    },
    {
      "cell_type": "code",
      "metadata": {
        "colab": {
          "base_uri": "https://localhost:8080/",
          "height": 296
        },
        "id": "RLW0PWlDJupg",
        "outputId": "66e1d5ca-6e5b-4478-d770-7701db78f279"
      },
      "source": [
        "point = np.arange(-12, 5)\n",
        "\n",
        "plt.scatter(new_data, result_predict)\n",
        "plt.plot(point, 5.0*point - 7)\n",
        "\n",
        "plt.grid(True)\n",
        "plt.xlabel(\"explanatory_variable data\")\n",
        "plt.ylabel(\"target_variable data\")\n",
        "plt.title(\"Linear_Regression_model_Predict\")\n",
        "\n",
        "plt.show()\n"
      ],
      "execution_count": null,
      "outputs": [
        {
          "output_type": "display_data",
          "data": {
            "image/png": "[encoded data removed]",
            "text/plain": [
              "<Figure size 432x288 with 1 Axes>"
            ]
          },
          "metadata": {
            "tags": [],
            "needs_background": "light"
          }
        }
      ]
    },
    {
      "cell_type": "code",
      "metadata": {
        "id": "zXYJh_7-KYvj"
      },
      "source": [
        ""
      ],
      "execution_count": null,
      "outputs": []
    },
    {
      "cell_type": "code",
      "metadata": {
        "id": "98gTM1DaKYtn"
      },
      "source": [
        ""
      ],
      "execution_count": null,
      "outputs": []
    },
    {
      "cell_type": "code",
      "metadata": {
        "id": "dSQKtTPjKYrb"
      },
      "source": [
        ""
      ],
      "execution_count": null,
      "outputs": []
    },
    {
      "cell_type": "code",
      "metadata": {
        "id": "cOjR9x8NKYnV"
      },
      "source": [
        ""
      ],
      "execution_count": null,
      "outputs": []
    },
    {
      "cell_type": "code",
      "metadata": {
        "id": "zsiGLAADKYgD"
      },
      "source": [
        ""
      ],
      "execution_count": null,
      "outputs": []
    }
  ]
}